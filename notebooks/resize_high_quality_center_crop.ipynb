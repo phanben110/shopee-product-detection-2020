{
 "cells": [
  {
   "cell_type": "code",
   "execution_count": 1,
   "metadata": {},
   "outputs": [],
   "source": [
    "import os\n",
    "import gc\n",
    "import cv2\n",
    "import numpy as np\n",
    "import matplotlib.pyplot as plt\n",
    "import pandas as pd\n",
    "\n",
    "from joblib import Parallel, delayed\n",
    "\n",
    "from tqdm.notebook import tqdm\n",
    "%matplotlib inline"
   ]
  },
  {
   "cell_type": "code",
   "execution_count": 2,
   "metadata": {},
   "outputs": [],
   "source": [
    "data_dir = os.path.dirname('/home/mod/Workspace/shopee-data/')\n",
    "image_train_dir = os.path.join(data_dir, 'train')\n",
    "image_test_dir = os.path.join(data_dir, 'test')\n",
    "\n",
    "target_train_dir = os.path.join(data_dir,'train_300x300')\n",
    "target_test_dir = os.path.join(data_dir,'test_300x300')\n",
    "\n",
    "IMAGE_SIZE = 300"
   ]
  },
  {
   "cell_type": "code",
   "execution_count": 3,
   "metadata": {},
   "outputs": [],
   "source": [
    "df_train = pd.read_csv(os.path.join(data_dir, 'train.csv'))\n",
    "df_test = pd.read_csv(os.path.join(data_dir, 'test.csv'))"
   ]
  },
  {
   "cell_type": "code",
   "execution_count": 4,
   "metadata": {},
   "outputs": [
    {
     "data": {
      "text/plain": [
       "(105392, 105392)"
      ]
     },
     "execution_count": 4,
     "metadata": {},
     "output_type": "execute_result"
    }
   ],
   "source": [
    "len(df_train), df_train.filename.nunique()"
   ]
  },
  {
   "cell_type": "code",
   "execution_count": 5,
   "metadata": {},
   "outputs": [],
   "source": [
    "def resize_image_train(image_dir, category, filename, target_dir):\n",
    "    img = cv2.imread(os.path.join(image_dir, f'{category:02}', filename))\n",
    "    img = cv2.resize( img , (IMAGE_SIZE, IMAGE_SIZE), interpolation = cv2.INTER_AREA )\n",
    "    name = os.path.join(target_dir, filename)\n",
    "    cv2.imwrite(name, img ,[int(cv2.IMWRITE_JPEG_QUALITY), 100])\n",
    "    return "
   ]
  },
  {
   "cell_type": "code",
   "execution_count": 6,
   "metadata": {},
   "outputs": [],
   "source": [
    "def resize_image_test(image_dir, filename, target_dir):\n",
    "    img = cv2.imread(os.path.join(image_dir, filename))\n",
    "    img = cv2.resize( img , (IMAGE_SIZE, IMAGE_SIZE), interpolation = cv2.INTER_AREA )\n",
    "    name = os.path.join(target_dir, filename)\n",
    "    cv2.imwrite(name, img ,[int(cv2.IMWRITE_JPEG_QUALITY), 100])\n",
    "    return "
   ]
  },
  {
   "cell_type": "code",
   "execution_count": 8,
   "metadata": {},
   "outputs": [],
   "source": [
    "# Parallel(n_jobs=4)(delayed(resize_image_test)(\n",
    "    \n",
    "#     image_dir=image_test_dir,\n",
    "#     filename=df_test.filename.values[i],\n",
    "#     target_dir=target_test_dir\n",
    "\n",
    "# ) for i in tqdm(range(df_test.shape[0])))"
   ]
  },
  {
   "cell_type": "code",
   "execution_count": 10,
   "metadata": {},
   "outputs": [],
   "source": [
    "# Parallel(n_jobs=4)(delayed(resize_image_train)(\n",
    "    \n",
    "#     image_dir=image_train_dir,\n",
    "#     filename=df_train.filename.values[i],\n",
    "#     category=df_train.category.values[i],\n",
    "#     target_dir=target_train_dir\n",
    "\n",
    "# ) for i in tqdm(range(df_train.shape[0])))"
   ]
  },
  {
   "cell_type": "markdown",
   "metadata": {},
   "source": [
    "# Center Crop"
   ]
  },
  {
   "cell_type": "code",
   "execution_count": 4,
   "metadata": {},
   "outputs": [],
   "source": [
    "import albumentations as A"
   ]
  },
  {
   "cell_type": "code",
   "execution_count": 5,
   "metadata": {},
   "outputs": [],
   "source": [
    "CROP_SIZE = 200\n",
    "IMAGE_SIZE = 128"
   ]
  },
  {
   "cell_type": "code",
   "execution_count": 6,
   "metadata": {},
   "outputs": [],
   "source": [
    "train_center_crop = os.path.join(data_dir, 'train_center_crop_128x128')\n",
    "test_center_crop = os.path.join(data_dir, 'test_center_crop_128x128')"
   ]
  },
  {
   "cell_type": "code",
   "execution_count": 7,
   "metadata": {},
   "outputs": [],
   "source": [
    "transform = A.Compose(\n",
    "    [\n",
    "        A.CenterCrop(height=CROP_SIZE, width=CROP_SIZE, p=1),\n",
    "    ], \n",
    "    p=1.0, \n",
    ")"
   ]
  },
  {
   "cell_type": "code",
   "execution_count": 8,
   "metadata": {},
   "outputs": [],
   "source": [
    "def crop_image(image_dir, filename, target_dir):\n",
    "    img = cv2.imread(os.path.join(image_dir, filename))\n",
    "    result = transform(image=img)\n",
    "    new_image = result['image']\n",
    "    new_image = cv2.resize( new_image , (IMAGE_SIZE, IMAGE_SIZE), interpolation = cv2.INTER_AREA )\n",
    "    name = os.path.join(target_dir, filename)\n",
    "    cv2.imwrite(name, new_image ,[int(cv2.IMWRITE_JPEG_QUALITY), 100])\n",
    "    return "
   ]
  },
  {
   "cell_type": "code",
   "execution_count": 11,
   "metadata": {},
   "outputs": [],
   "source": [
    "# Parallel(n_jobs=4)(delayed(crop_image)(\n",
    "    \n",
    "#     image_dir=target_train_dir,\n",
    "#     filename=df_train.filename.values[i],\n",
    "#     target_dir=train_center_crop\n",
    "\n",
    "# ) for i in tqdm(range(df_train.shape[0])))"
   ]
  },
  {
   "cell_type": "code",
   "execution_count": null,
   "metadata": {},
   "outputs": [],
   "source": []
  }
 ],
 "metadata": {
  "kernelspec": {
   "display_name": "Python 3",
   "language": "python",
   "name": "python3"
  },
  "language_info": {
   "codemirror_mode": {
    "name": "ipython",
    "version": 3
   },
   "file_extension": ".py",
   "mimetype": "text/x-python",
   "name": "python",
   "nbconvert_exporter": "python",
   "pygments_lexer": "ipython3",
   "version": "3.7.7"
  },
  "toc": {
   "base_numbering": 1,
   "nav_menu": {},
   "number_sections": true,
   "sideBar": true,
   "skip_h1_title": false,
   "title_cell": "Table of Contents",
   "title_sidebar": "Contents",
   "toc_cell": false,
   "toc_position": {},
   "toc_section_display": true,
   "toc_window_display": false
  }
 },
 "nbformat": 4,
 "nbformat_minor": 4
}
