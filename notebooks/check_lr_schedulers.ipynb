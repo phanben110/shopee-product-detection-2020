{
 "cells": [
  {
   "cell_type": "code",
   "execution_count": 1,
   "metadata": {},
   "outputs": [],
   "source": [
    "import torch\n",
    "from torch.optim.lr_scheduler import StepLR, ExponentialLR, CosineAnnealingLR, ReduceLROnPlateau # CosineAnnealingWarmRestarts\n",
    "from torch.optim.sgd import SGD\n",
    "from torch.optim.adam import Adam\n",
    "\n",
    "from warmup_scheduler import GradualWarmupScheduler\n",
    "import matplotlib.pyplot as plt\n",
    "\n",
    "%matplotlib inline"
   ]
  },
  {
   "cell_type": "code",
   "execution_count": 2,
   "metadata": {},
   "outputs": [],
   "source": [
    "# from cosine_annearing_with_warmup import CosineAnnealingWarmUpRestarts"
   ]
  },
  {
   "cell_type": "code",
   "execution_count": 3,
   "metadata": {},
   "outputs": [],
   "source": [
    "import math\n",
    "from torch.optim.lr_scheduler import _LRScheduler\n",
    "\n",
    "class CosineAnnealingWarmUpRestarts(_LRScheduler):\n",
    "    def __init__(self, optimizer, T_0, T_mult=1, eta_max=0.1, T_up=0, gamma=1., last_epoch=-1):\n",
    "        \n",
    "        if T_0 <= 0 or not isinstance(T_0, int):\n",
    "            raise ValueError(\"Expected positive integer T_0, but got {}\".format(T_0))\n",
    "        if T_mult < 1 or not isinstance(T_mult, int):\n",
    "            raise ValueError(\"Expected integer T_mult >= 1, but got {}\".format(T_mult))\n",
    "        if T_up < 0 or not isinstance(T_up, int):\n",
    "            raise ValueError(\"Expected positive integer T_up, but got {}\".format(T_up))\n",
    "        self.T_0 = T_0\n",
    "        self.T_mult = T_mult\n",
    "        self.base_eta_max = eta_max\n",
    "        self.eta_max = eta_max\n",
    "        self.T_up = T_up\n",
    "        self.T_i = T_0\n",
    "        self.gamma = gamma\n",
    "        self.cycle = 0\n",
    "        \n",
    "        super(CosineAnnealingWarmUpRestarts, self).__init__(optimizer, last_epoch)\n",
    "        self.T_cur = self.last_epoch\n",
    "    \n",
    "    def get_lr(self):\n",
    "        if self.T_cur == -1:\n",
    "            return self.base_lrs\n",
    "        elif self.T_cur < self.T_up:\n",
    "            return [(self.eta_max - base_lr)*self.T_cur / self.T_up + base_lr for base_lr in self.base_lrs]\n",
    "        else:\n",
    "            return [base_lr + (self.eta_max - base_lr) * (1 + math.cos(math.pi * (self.T_cur-self.T_up) / (self.T_i - self.T_up))) / 2\n",
    "                    for base_lr in self.base_lrs]\n",
    "\n",
    "    def step(self, epoch=None):\n",
    "        if epoch is None and self.last_epoch < 0:\n",
    "            epoch = 0\n",
    "        if epoch is None:\n",
    "            epoch = self.last_epoch + 1\n",
    "            self.T_cur = self.T_cur + 1\n",
    "            if self.T_cur >= self.T_i:\n",
    "                self.cycle += 1\n",
    "                self.T_cur = self.T_cur - self.T_i\n",
    "                self.T_i = (self.T_i - self.T_up) * self.T_mult + self.T_up\n",
    "        else:\n",
    "            if epoch >= self.T_0:\n",
    "                if self.T_mult == 1:\n",
    "                    self.T_cur = epoch % self.T_0\n",
    "                    self.cycle = epoch // self.T_0\n",
    "                else:\n",
    "                    n = int(math.log((epoch / self.T_0 * (self.T_mult - 1) + 1), self.T_mult))\n",
    "                    self.cycle = n\n",
    "                    self.T_cur = epoch - self.T_0 * (self.T_mult ** n - 1) / (self.T_mult - 1)\n",
    "                    self.T_i = self.T_0 * self.T_mult ** (n)\n",
    "            else:\n",
    "                self.T_i = self.T_0\n",
    "                self.T_cur = epoch\n",
    "                \n",
    "        self.eta_max = self.base_eta_max * (self.gamma**self.cycle)\n",
    "        self.last_epoch = math.floor(epoch)\n",
    "        for param_group, lr in zip(self.optimizer.param_groups, self.get_lr()):\n",
    "            param_group['lr'] = lr\n",
    "            \n",
    "\n",
    "            \n",
    "            \n",
    "class CosineAnnealingWarmRestarts(_LRScheduler):\n",
    "\n",
    "    def __init__(self, optimizer, T_0, T_mult=1, eta_min=0, last_epoch=-1):\n",
    "        if T_0 <= 0 or not isinstance(T_0, int):\n",
    "            raise ValueError(\"Expected positive integer T_0, but got {}\".format(T_0))\n",
    "        if T_mult < 1 or not isinstance(T_mult, int):\n",
    "            raise ValueError(\"Expected integer T_mult >= 1, but got {}\".format(T_mult))\n",
    "        self.T_0 = T_0\n",
    "        self.T_i = T_0\n",
    "        self.T_mult = T_mult\n",
    "        self.eta_min = eta_min\n",
    "\n",
    "        super(CosineAnnealingWarmRestarts, self).__init__(optimizer, last_epoch)\n",
    "\n",
    "        self.T_cur = self.last_epoch\n",
    "\n",
    "    def get_lr(self):\n",
    "        if not self._get_lr_called_within_step:\n",
    "            warnings.warn(\"To get the last learning rate computed by the scheduler, \"\n",
    "                          \"please use `get_last_lr()`.\", UserWarning)\n",
    "\n",
    "        return [self.eta_min + (base_lr - self.eta_min) * (1 + math.cos(math.pi * self.T_cur / self.T_i)) / 2\n",
    "                for base_lr in self.base_lrs]\n",
    "    def step(self, epoch=None):\n",
    "        if epoch is None and self.last_epoch < 0:\n",
    "            epoch = 0\n",
    "\n",
    "        if epoch is None:\n",
    "            epoch = self.last_epoch + 1\n",
    "            self.T_cur = self.T_cur + 1\n",
    "            if self.T_cur >= self.T_i:\n",
    "                self.T_cur = self.T_cur - self.T_i\n",
    "                self.T_i = self.T_i * self.T_mult\n",
    "        else:\n",
    "            if epoch < 0:\n",
    "                raise ValueError(\"Expected non-negative epoch, but got {}\".format(epoch))\n",
    "            if epoch >= self.T_0:\n",
    "                if self.T_mult == 1:\n",
    "                    self.T_cur = epoch % self.T_0\n",
    "                else:\n",
    "                    n = int(math.log((epoch / self.T_0 * (self.T_mult - 1) + 1), self.T_mult))\n",
    "                    self.T_cur = epoch - self.T_0 * (self.T_mult ** n - 1) / (self.T_mult - 1)\n",
    "                    self.T_i = self.T_0 * self.T_mult ** (n)\n",
    "            else:\n",
    "                self.T_i = self.T_0\n",
    "                self.T_cur = epoch\n",
    "        self.last_epoch = math.floor(epoch)\n",
    "\n",
    "        class _enable_get_lr_call:\n",
    "\n",
    "            def __init__(self, o):\n",
    "                self.o = o\n",
    "\n",
    "            def __enter__(self):\n",
    "                self.o._get_lr_called_within_step = True\n",
    "                return self\n",
    "\n",
    "            def __exit__(self, type, value, traceback):\n",
    "                self.o._get_lr_called_within_step = False\n",
    "                return self\n",
    "\n",
    "        with _enable_get_lr_call(self):\n",
    "            for param_group, lr in zip(self.optimizer.param_groups, self.get_lr()):\n",
    "                param_group['lr'] = lr\n",
    "\n",
    "        self._last_lr = [group['lr'] for group in self.optimizer.param_groups]"
   ]
  },
  {
   "cell_type": "code",
   "execution_count": 4,
   "metadata": {},
   "outputs": [],
   "source": [
    "# ??CosineAnnealingLR"
   ]
  },
  {
   "cell_type": "code",
   "execution_count": 17,
   "metadata": {
    "scrolled": true
   },
   "outputs": [],
   "source": [
    "model = [torch.nn.Parameter(torch.randn(2, 2, requires_grad=True))]\n",
    "lr = 1e-2\n",
    "# optim = SGD(model, lr= 0.0001)\n",
    "epochs = 60\n",
    "warmup_factor = 1\n",
    "warmup_epoch = 5\n",
    "optim = Adam(model, lr=lr / warmup_factor)\n",
    "# scheduler_warmup is chained with schduler_steplr\n",
    "# scheduler_steplr = StepLR(optim, step_size=10, gamma=0.1)\n",
    "# scheduler_steplr = CosineAnnealingLR(optim, T_max=50)\n",
    "# scheduler_warmup = CosineAnnealingWarmRestarts(optim, T_0=40, T_mult=1)\n",
    "# scheduler_warmup = GradualWarmupScheduler(optim, multiplier=1, total_epoch=5, after_scheduler=scheduler_steplr)\n",
    "scheduler_warmup = CosineAnnealingWarmUpRestarts(optim, T_0=40, T_mult=1, eta_max=0.0007, T_up=5, gamma=0.5, last_epoch=-1)\n",
    "\n",
    "\n",
    "\n",
    "# scheduler_cosine = CosineAnnealingLR(optim, epochs - warmup_epoch)\n",
    "# scheduler_cosine = StepLR(optim, step_size=3, gamma=0.8,)\n",
    "# scheduler_warmup = GradualWarmupScheduler(\n",
    "#     optim, multiplier=warmup_factor,\n",
    "#     total_epoch=warmup_epoch,\n",
    "#     after_scheduler=scheduler_cosine\n",
    "# )\n",
    "\n",
    "# this zero gradient update is needed to avoid a warning message, issue #8.\n",
    "# optim.zero_grad()\n",
    "# optim.step()\n",
    "\n",
    "lr_steps = []\n",
    "for epoch in range(1, epochs):\n",
    "    scheduler_warmup.step(epoch)\n",
    "    lr_steps.append(optim.param_groups[0]['lr'])\n",
    "\n",
    "    optim.step()    # backward pass (update network)"
   ]
  },
  {
   "cell_type": "code",
   "execution_count": 18,
   "metadata": {},
   "outputs": [
    {
     "data": {
      "text/plain": [
       "[<matplotlib.lines.Line2D at 0x7f6ffe311990>]"
      ]
     },
     "execution_count": 18,
     "metadata": {},
     "output_type": "execute_result"
    },
    {
     "data": {
      "image/png": "[encoded data removed]",
      "text/plain": [
       "<Figure size 432x288 with 1 Axes>"
      ]
     },
     "metadata": {
      "needs_background": "light"
     },
     "output_type": "display_data"
    }
   ],
   "source": [
    "plt.plot(lr_steps)"
   ]
  },
  {
   "cell_type": "code",
   "execution_count": 68,
   "metadata": {},
   "outputs": [
    {
     "data": {
      "text/plain": [
       "[1.4000000000000001e-06,\n",
       " 2.8000000000000003e-06,\n",
       " 4.2e-06,\n",
       " 5.600000000000001e-06,\n",
       " 7e-06,\n",
       " 7e-06,\n",
       " 7e-06,\n",
       " 5.600000000000001e-06,\n",
       " 5.600000000000001e-06,\n",
       " 5.600000000000001e-06,\n",
       " 4.480000000000001e-06,\n",
       " 4.480000000000001e-06,\n",
       " 4.480000000000001e-06,\n",
       " 3.5840000000000008e-06,\n",
       " 3.5840000000000008e-06,\n",
       " 3.5840000000000008e-06,\n",
       " 2.8672000000000007e-06,\n",
       " 2.8672000000000007e-06,\n",
       " 2.8672000000000007e-06,\n",
       " 2.2937600000000005e-06,\n",
       " 2.2937600000000005e-06,\n",
       " 2.2937600000000005e-06,\n",
       " 1.8350080000000007e-06,\n",
       " 1.8350080000000007e-06,\n",
       " 1.8350080000000007e-06,\n",
       " 1.4680064000000005e-06,\n",
       " 1.4680064000000005e-06,\n",
       " 1.4680064000000005e-06,\n",
       " 1.1744051200000005e-06]"
      ]
     },
     "execution_count": 68,
     "metadata": {},
     "output_type": "execute_result"
    }
   ],
   "source": [
    "lr_steps"
   ]
  },
  {
   "cell_type": "code",
   "execution_count": 10,
   "metadata": {},
   "outputs": [
    {
     "data": {
      "text/plain": [
       "[1.4000000000000001e-06,\n",
       " 2.8000000000000003e-06,\n",
       " 4.2e-06,\n",
       " 5.600000000000001e-06,\n",
       " 7e-06,\n",
       " 7e-06,\n",
       " 6.890041063950209e-06,\n",
       " 6.754217700608879e-06,\n",
       " 6.567073380153522e-06,\n",
       " 6.331559480312316e-06,\n",
       " 6.05139019597494e-06,\n",
       " 5.730983964120414e-06,\n",
       " 5.375393782426488e-06,\n",
       " 4.9902275204777545e-06,\n",
       " 4.581559480312316e-06,\n",
       " 4.1558346010500365e-06,\n",
       " 3.719766818352597e-06,\n",
       " 3.2802331816474033e-06,\n",
       " 2.844165398949964e-06,\n",
       " 2.418440519687685e-06,\n",
       " 2.009772479522246e-06,\n",
       " 1.6246062175735108e-06,\n",
       " 1.2690160358795858e-06,\n",
       " 9.486098040250603e-07,\n",
       " 6.684405196876843e-07,\n",
       " 4.3292661984647747e-07,\n",
       " 2.4578229939112027e-07,\n",
       " 1.0995893604979162e-07,\n",
       " 2.759854539932782e-08]"
      ]
     },
     "execution_count": 10,
     "metadata": {},
     "output_type": "execute_result"
    }
   ],
   "source": [
    "lr_steps"
   ]
  },
  {
   "cell_type": "code",
   "execution_count": 7,
   "metadata": {},
   "outputs": [
    {
     "data": {
      "text/plain": [
       "[1.4000000000000001e-06,\n",
       " 2.8000000000000003e-06,\n",
       " 4.2e-06,\n",
       " 5.600000000000001e-06,\n",
       " 7e-06,\n",
       " 7e-06,\n",
       " 6.331559480312316e-06,\n",
       " 5.557248383023656e-06,\n",
       " 4.581559480312316e-06,\n",
       " 3.5e-06,\n",
       " 2.418440519687684e-06,\n",
       " 1.4427516169763444e-06,\n",
       " 6.684405196876843e-07,\n",
       " 1.7130219296696264e-07]"
      ]
     },
     "execution_count": 7,
     "metadata": {},
     "output_type": "execute_result"
    }
   ],
   "source": [
    "lr_steps"
   ]
  },
  {
   "cell_type": "code",
   "execution_count": 24,
   "metadata": {},
   "outputs": [
    {
     "data": {
      "text/plain": [
       "[<matplotlib.lines.Line2D at 0x7f7af3cefc90>]"
      ]
     },
     "execution_count": 24,
     "metadata": {},
     "output_type": "execute_result"
    },
    {
     "data": {
      "image/png": "[encoded data removed]",
      "text/plain": [
       "<Figure size 432x288 with 1 Axes>"
      ]
     },
     "metadata": {
      "needs_background": "light"
     },
     "output_type": "display_data"
    }
   ],
   "source": [
    "plt.plot(lr_steps)"
   ]
  },
  {
   "cell_type": "code",
   "execution_count": 34,
   "metadata": {},
   "outputs": [
    {
     "data": {
      "text/plain": [
       "[<matplotlib.lines.Line2D at 0x7f7af32b53d0>]"
      ]
     },
     "execution_count": 34,
     "metadata": {},
     "output_type": "execute_result"
    },
    {
     "data": {
      "image/png": "[encoded data removed]",
      "text/plain": [
       "<Figure size 432x288 with 1 Axes>"
      ]
     },
     "metadata": {
      "needs_background": "light"
     },
     "output_type": "display_data"
    }
   ],
   "source": [
    "plt.plot(lr_steps)"
   ]
  },
  {
   "cell_type": "code",
   "execution_count": 23,
   "metadata": {},
   "outputs": [
    {
     "data": {
      "text/plain": [
       "[<matplotlib.lines.Line2D at 0x7f1f6765ffd0>]"
      ]
     },
     "execution_count": 23,
     "metadata": {},
     "output_type": "execute_result"
    },
    {
     "data": {
      "image/png": "[encoded data removed]",
      "text/plain": [
       "<Figure size 432x288 with 1 Axes>"
      ]
     },
     "metadata": {
      "needs_background": "light"
     },
     "output_type": "display_data"
    }
   ],
   "source": [
    "plt.plot(lr_steps)"
   ]
  },
  {
   "cell_type": "code",
   "execution_count": 20,
   "metadata": {},
   "outputs": [
    {
     "data": {
      "text/plain": [
       "[0.02008,\n",
       " 0.040060000000000005,\n",
       " 0.06004000000000001,\n",
       " 0.08002000000000001,\n",
       " 0.1,\n",
       " 0.0997989159850622,\n",
       " 0.09919728295050156,\n",
       " 0.09819994489175787,\n",
       " 0.09681493178845488,\n",
       " 0.09505339495172584,\n",
       " 0.09292951724041322,\n",
       " 0.09046039886902862,\n",
       " 0.08766591972688038,\n",
       " 0.0845685793168939,\n",
       " 0.08119331560284375,\n",
       " 0.07756730422353253,\n",
       " 0.07371973969052628,\n",
       " 0.0696816003311135,\n",
       " 0.06548539886902863,\n",
       " 0.06116492065111791,\n",
       " 0.05675495162759189,\n",
       " 0.05229099827600823,\n",
       " 0.04780900172399179,\n",
       " 0.043345048372408115,\n",
       " 0.0389350793488821,\n",
       " 0.03461460113097138,\n",
       " 0.030418399668886528,\n",
       " 0.026380260309473717,\n",
       " 0.022532695776467482,\n",
       " 0.018906684397156263,\n",
       " 0.01553142068310611,\n",
       " 0.012434080273119638,\n",
       " 0.00963960113097138,\n",
       " 0.007170482759586789,\n",
       " 0.005046605048274169,\n",
       " 0.0032850682115451264,\n",
       " 0.0019000551082421306,\n",
       " 0.0009027170494984481,\n",
       " 0.00030108401493780855,\n",
       " 0.0001,\n",
       " 0.010079999999999999,\n",
       " 0.020059999999999998,\n",
       " 0.03004,\n",
       " 0.04002,\n",
       " 0.05,\n",
       " 0.049899558635181224,\n",
       " 0.049599043235535815,\n",
       " 0.04910087337436154,\n",
       " 0.048409060022461446,\n",
       " 0.047529173254165356,\n",
       " 0.046468297400366565,\n",
       " 0.04523497400965494,\n",
       " 0.0438391330767901,\n",
       " 0.04229201309222228,\n",
       " 0.040606070556375405,\n",
       " 0.03879487968722996,\n",
       " 0.03687302312870132,\n",
       " 0.0348559745397654,\n",
       " 0.03275997400965494]"
      ]
     },
     "execution_count": 20,
     "metadata": {},
     "output_type": "execute_result"
    }
   ],
   "source": [
    "lr_steps"
   ]
  },
  {
   "cell_type": "code",
   "execution_count": null,
   "metadata": {},
   "outputs": [],
   "source": []
  },
  {
   "cell_type": "code",
   "execution_count": null,
   "metadata": {},
   "outputs": [],
   "source": []
  }
 ],
 "metadata": {
  "kernelspec": {
   "display_name": "Python 3",
   "language": "python",
   "name": "python3"
  },
  "language_info": {
   "codemirror_mode": {
    "name": "ipython",
    "version": 3
   },
   "file_extension": ".py",
   "mimetype": "text/x-python",
   "name": "python",
   "nbconvert_exporter": "python",
   "pygments_lexer": "ipython3",
   "version": "3.7.7"
  },
  "toc": {
   "base_numbering": 1,
   "nav_menu": {},
   "number_sections": true,
   "sideBar": true,
   "skip_h1_title": false,
   "title_cell": "Table of Contents",
   "title_sidebar": "Contents",
   "toc_cell": false,
   "toc_position": {},
   "toc_section_display": true,
   "toc_window_display": false
  }
 },
 "nbformat": 4,
 "nbformat_minor": 4
}
